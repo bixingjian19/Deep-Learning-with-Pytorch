{
 "metadata": {
  "language_info": {
   "codemirror_mode": {
    "name": "ipython",
    "version": 3
   },
   "file_extension": ".py",
   "mimetype": "text/x-python",
   "name": "python",
   "nbconvert_exporter": "python",
   "pygments_lexer": "ipython3",
   "version": "3.7.7-final"
  },
  "orig_nbformat": 2,
  "kernelspec": {
   "name": "python37764bitconda2bfb30ac49724e8ead97ec5411faa2ff",
   "display_name": "Python 3.7.7 64-bit (conda)"
  }
 },
 "nbformat": 4,
 "nbformat_minor": 2,
 "cells": [
  {
   "cell_type": "code",
   "execution_count": 2,
   "metadata": {},
   "outputs": [],
   "source": [
    "import torch \n",
    "import torch.nn as nn\n",
    "import torch.nn.functional as F \n",
    "import torch.utils.data as Data \n",
    "import torch.optim as optim\n",
    "import torchvision"
   ]
  },
  {
   "cell_type": "code",
   "execution_count": 3,
   "metadata": {},
   "outputs": [],
   "source": [
    "batch_size = 64\n",
    "transform = torchvision.transforms.Compose([\n",
    "    torchvision.transforms.ToTensor(),\n",
    "    # 切换到标准差分布\n",
    "    torchvision.transforms.Normalize((0.1307, ), (0.3081, ))\n",
    "])"
   ]
  },
  {
   "cell_type": "code",
   "execution_count": 65,
   "metadata": {},
   "outputs": [],
   "source": [
    "train_data = torchvision.datasets.MNIST('./dataset/mnist/', train= True, transform= transform)\n",
    "train_loader = Data.DataLoader(train_data, shuffle= True, batch_size= batch_size)\n",
    "test_date = torchvision.datasets.MNIST('./dataset/mnist/', train= False, transform= transform)\n",
    "test_loader = Data.DataLoader(test_date, shuffle= False, batch_size= batch_size)\n"
   ]
  },
  {
   "cell_type": "code",
   "execution_count": 72,
   "metadata": {},
   "outputs": [],
   "source": [
    "class CNN(nn.Module):\n",
    "    def __init__(self):\n",
    "        super(CNN,self).__init__()\n",
    "        self.conv1 = nn.Conv2d(1,10,5)\n",
    "        self.conv2 = nn.Conv2d(10,20,5)\n",
    "        self.pooling = nn.MaxPool2d(2)\n",
    "        self.fc = nn.Linear(320,10)\n",
    "    def forward(self,x):\n",
    "        batch_size = x.size(0)\n",
    "        x = F.relu(self.pooling(self.conv1(x)))\n",
    "        x = F.relu(self.pooling(self.conv2(x)))\n",
    "        x = x.view(batch_size,-1)\n",
    "        x = self.fc(x)\n",
    "        return x\n",
    "model = CNN()"
   ]
  },
  {
   "cell_type": "code",
   "execution_count": 73,
   "metadata": {},
   "outputs": [],
   "source": [
    "criterion = nn.CrossEntropyLoss()\n",
    "optimizer = optim.SGD(model.parameters(), lr=0.01, momentum= 0.5)"
   ]
  },
  {
   "cell_type": "code",
   "execution_count": 74,
   "metadata": {},
   "outputs": [],
   "source": [
    "def train(epoch):\n",
    "    running_loss = 0\n",
    "    for batch_idx, data in enumerate(train_loader):\n",
    "        inputs, target = data\n",
    "        optimizer.zero_grad()\n",
    "\n",
    "        outputs = model(inputs)\n",
    "        loss = criterion(outputs, target)\n",
    "        loss.backward()\n",
    "        optimizer.step()\n",
    "\n",
    "        running_loss += loss.item()\n",
    "        if batch_idx % 300 ==299:\n",
    "            print(\"[%d,%5d] loss: %.3f\" % (epoch+1, batch_idx+1, running_loss/300))\n",
    "            running_loss = 0\n"
   ]
  },
  {
   "cell_type": "code",
   "execution_count": 75,
   "metadata": {},
   "outputs": [],
   "source": [
    "def test():\n",
    "    correct = 0\n",
    "    total = 0\n",
    "    with torch.no_grad():\n",
    "        for data in test_loader:\n",
    "            inputs, labels = data\n",
    "            outputs = model(inputs)\n",
    "            _, prediction = torch.max(outputs.data, dim = 1)\n",
    "            total += labels.size(0)\n",
    "            correct += (prediction == labels).sum().item()\n",
    "    print(\"ACC: %d %%\" % (100*correct/total))"
   ]
  },
  {
   "cell_type": "code",
   "execution_count": 76,
   "metadata": {
    "tags": []
   },
   "outputs": [
    {
     "output_type": "stream",
     "name": "stdout",
     "text": "[1,  300] loss: 0.692\n[1,  600] loss: 0.193\n[1,  900] loss: 0.138\nACC: 96 %\n[2,  300] loss: 0.112\n[2,  600] loss: 0.093\n[2,  900] loss: 0.090\nACC: 97 %\n[3,  300] loss: 0.077\n[3,  600] loss: 0.076\n[3,  900] loss: 0.076\nACC: 98 %\n[4,  300] loss: 0.061\n[4,  600] loss: 0.065\n[4,  900] loss: 0.063\nACC: 98 %\n[5,  300] loss: 0.056\n[5,  600] loss: 0.061\n[5,  900] loss: 0.050\nACC: 98 %\n"
    }
   ],
   "source": [
    "if __name__ == '__main__':\n",
    "    for epoch in range(5):\n",
    "        train(epoch)\n",
    "        test()"
   ]
  },
  {
   "cell_type": "code",
   "execution_count": null,
   "metadata": {},
   "outputs": [],
   "source": []
  }
 ]
}